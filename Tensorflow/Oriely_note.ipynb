{
 "cells": [
  {
   "cell_type": "code",
   "execution_count": 1,
   "metadata": {},
   "outputs": [],
   "source": [
    "import tensorflow as tf\n",
    "import pandas as pd\n",
    "import numpy as np\n",
    "from sklearn.model_selection import train_test_split\n",
    "import matplotlib.pyplot as plt\n"
   ]
  },
  {
   "cell_type": "code",
   "execution_count": 10,
   "metadata": {},
   "outputs": [
    {
     "name": "stdout",
     "output_type": "stream",
     "text": [
      "   longitude  latitude  housing_median_age  total_rooms  total_bedrooms  \\\n",
      "0    -122.23     37.88                41.0        880.0           129.0   \n",
      "1    -122.22     37.86                21.0       7099.0          1106.0   \n",
      "2    -122.24     37.85                52.0       1467.0           190.0   \n",
      "3    -122.25     37.85                52.0       1274.0           235.0   \n",
      "4    -122.25     37.85                52.0       1627.0           280.0   \n",
      "\n",
      "   population  households  median_income  median_house_value ocean_proximity  \n",
      "0       322.0       126.0         8.3252            452600.0        NEAR BAY  \n",
      "1      2401.0      1138.0         8.3014            358500.0        NEAR BAY  \n",
      "2       496.0       177.0         7.2574            352100.0        NEAR BAY  \n",
      "3       558.0       219.0         5.6431            341300.0        NEAR BAY  \n",
      "4       565.0       259.0         3.8462            342200.0        NEAR BAY  \n",
      "<class 'pandas.core.frame.DataFrame'>\n",
      "RangeIndex: 20640 entries, 0 to 20639\n",
      "Data columns (total 10 columns):\n",
      " #   Column              Non-Null Count  Dtype  \n",
      "---  ------              --------------  -----  \n",
      " 0   longitude           20640 non-null  float64\n",
      " 1   latitude            20640 non-null  float64\n",
      " 2   housing_median_age  20640 non-null  float64\n",
      " 3   total_rooms         20640 non-null  float64\n",
      " 4   total_bedrooms      20433 non-null  float64\n",
      " 5   population          20640 non-null  float64\n",
      " 6   households          20640 non-null  float64\n",
      " 7   median_income       20640 non-null  float64\n",
      " 8   median_house_value  20640 non-null  float64\n",
      " 9   ocean_proximity     20640 non-null  object \n",
      "dtypes: float64(9), object(1)\n",
      "memory usage: 1.6+ MB\n",
      "None\n",
      "16512\n",
      "4128\n",
      "       longitude  latitude  housing_median_age  total_rooms  total_bedrooms  \\\n",
      "14196    -117.22     32.75                34.0       6001.0          1111.0   \n",
      "8267     -117.03     32.69                10.0        901.0           163.0   \n",
      "17445    -122.27     37.74                28.0       6909.0          1554.0   \n",
      "14265    -121.82     37.25                25.0       4021.0           634.0   \n",
      "2271     -115.98     33.32                 8.0        240.0            46.0   \n",
      "...          ...       ...                 ...          ...             ...   \n",
      "11284    -122.37     37.94                49.0        969.0           229.0   \n",
      "11964    -118.38     33.89                35.0       1778.0           330.0   \n",
      "5390     -119.33     36.28                16.0       2624.0           527.0   \n",
      "860      -117.19     34.08                22.0       2467.0           555.0   \n",
      "15795    -118.86     34.22                22.0       1230.0           200.0   \n",
      "\n",
      "       population  households  median_income  median_house_value  \\\n",
      "14196      2654.0      1072.0         4.5878            291000.0   \n",
      "8267        698.0       167.0         4.6648            156100.0   \n",
      "17445      2974.0      1484.0         3.6875            353900.0   \n",
      "14265      2178.0       650.0         5.1663            241200.0   \n",
      "2271         63.0        24.0         1.4688             53800.0   \n",
      "...           ...         ...            ...                 ...   \n",
      "11284       599.0       195.0         1.3167             71600.0   \n",
      "11964       732.0       312.0         6.5745            379300.0   \n",
      "5390       1077.0       520.0         2.1250            104200.0   \n",
      "860        1567.0       494.0         2.6536             84700.0   \n",
      "15795       673.0       195.0         6.2708            251400.0   \n",
      "\n",
      "      ocean_proximity  \n",
      "14196      NEAR OCEAN  \n",
      "8267       NEAR OCEAN  \n",
      "17445        NEAR BAY  \n",
      "14265       <1H OCEAN  \n",
      "2271           INLAND  \n",
      "...               ...  \n",
      "11284        NEAR BAY  \n",
      "11964       <1H OCEAN  \n",
      "5390           INLAND  \n",
      "860            INLAND  \n",
      "15795       <1H OCEAN  \n",
      "\n",
      "[16512 rows x 10 columns]\n",
      "       longitude  latitude  housing_median_age  total_rooms  total_bedrooms  \\\n",
      "20046    -122.38     40.67                10.0       2281.0           444.0   \n",
      "3024     -118.37     33.83                35.0       1207.0           207.0   \n",
      "15663    -117.24     32.72                39.0       3089.0           431.0   \n",
      "20484    -118.44     34.05                18.0       4780.0          1192.0   \n",
      "9814     -118.44     34.18                33.0       2127.0           414.0   \n",
      "...          ...       ...                 ...          ...             ...   \n",
      "15362    -121.92     40.52                13.0       4581.0           881.0   \n",
      "16623    -122.08     37.68                26.0       2607.0           682.0   \n",
      "18086    -119.00     35.39                42.0       2839.0           516.0   \n",
      "2144     -117.92     33.63                39.0       1469.0           226.0   \n",
      "3665     -118.39     34.02                38.0       2447.0           636.0   \n",
      "\n",
      "       population  households  median_income  median_house_value  \\\n",
      "20046      1274.0       438.0         2.2120             65600.0   \n",
      "3024        601.0       213.0         4.7308            353400.0   \n",
      "15663      1175.0       432.0         7.5925            466700.0   \n",
      "20484      1886.0      1036.0         4.4674            500001.0   \n",
      "9814       1056.0       391.0         4.3750            286100.0   \n",
      "...           ...         ...            ...                 ...   \n",
      "15362      1799.0       734.0         2.2993             99500.0   \n",
      "16623      1401.0       607.0         2.6563            184100.0   \n",
      "18086      1203.0       487.0         3.7708             79400.0   \n",
      "2144        553.0       225.0         7.8496            490800.0   \n",
      "3665       1312.0       574.0         3.5909            279400.0   \n",
      "\n",
      "      ocean_proximity  \n",
      "20046          INLAND  \n",
      "3024        <1H OCEAN  \n",
      "15663      NEAR OCEAN  \n",
      "20484       <1H OCEAN  \n",
      "9814        <1H OCEAN  \n",
      "...               ...  \n",
      "15362          INLAND  \n",
      "16623        NEAR BAY  \n",
      "18086          INLAND  \n",
      "2144        <1H OCEAN  \n",
      "3665        <1H OCEAN  \n",
      "\n",
      "[4128 rows x 10 columns]\n"
     ]
    }
   ],
   "source": [
    "data = pd.read_csv(\"D:\\Projects\\ML\\Datasets\\housing.csv\")\n",
    "print(data.head())\n",
    "print(data.info())\n",
    "x_train,x_test = train_test_split(data,test_size=0.2,random_state=42)\n"
   ]
  },
  {
   "cell_type": "code",
   "execution_count": 12,
   "metadata": {},
   "outputs": [
    {
     "name": "stdout",
     "output_type": "stream",
     "text": [
      "       longitude  latitude  housing_median_age  total_rooms  total_bedrooms  \\\n",
      "14196    -117.22     32.75                34.0       6001.0          1111.0   \n",
      "8267     -117.03     32.69                10.0        901.0           163.0   \n",
      "17445    -122.27     37.74                28.0       6909.0          1554.0   \n",
      "14265    -121.82     37.25                25.0       4021.0           634.0   \n",
      "2271     -115.98     33.32                 8.0        240.0            46.0   \n",
      "\n",
      "       population  households  median_income  median_house_value  \\\n",
      "14196      2654.0      1072.0         4.5878            291000.0   \n",
      "8267        698.0       167.0         4.6648            156100.0   \n",
      "17445      2974.0      1484.0         3.6875            353900.0   \n",
      "14265      2178.0       650.0         5.1663            241200.0   \n",
      "2271         63.0        24.0         1.4688             53800.0   \n",
      "\n",
      "      ocean_proximity  \n",
      "14196      NEAR OCEAN  \n",
      "8267       NEAR OCEAN  \n",
      "17445        NEAR BAY  \n",
      "14265       <1H OCEAN  \n",
      "2271           INLAND  \n",
      "       longitude  latitude  housing_median_age  total_rooms  total_bedrooms  \\\n",
      "20046    -122.38     40.67                10.0       2281.0           444.0   \n",
      "3024     -118.37     33.83                35.0       1207.0           207.0   \n",
      "15663    -117.24     32.72                39.0       3089.0           431.0   \n",
      "20484    -118.44     34.05                18.0       4780.0          1192.0   \n",
      "9814     -118.44     34.18                33.0       2127.0           414.0   \n",
      "\n",
      "       population  households  median_income  median_house_value  \\\n",
      "20046      1274.0       438.0         2.2120             65600.0   \n",
      "3024        601.0       213.0         4.7308            353400.0   \n",
      "15663      1175.0       432.0         7.5925            466700.0   \n",
      "20484      1886.0      1036.0         4.4674            500001.0   \n",
      "9814       1056.0       391.0         4.3750            286100.0   \n",
      "\n",
      "      ocean_proximity  \n",
      "20046          INLAND  \n",
      "3024        <1H OCEAN  \n",
      "15663      NEAR OCEAN  \n",
      "20484       <1H OCEAN  \n",
      "9814        <1H OCEAN  \n",
      "16512\n",
      "4128\n"
     ]
    }
   ],
   "source": [
    "print(x_train.head())\n",
    "print(x_test.head())\n",
    "\n",
    "print(len(x_train))\n",
    "print(len(x_test))"
   ]
  },
  {
   "cell_type": "code",
   "execution_count": 17,
   "metadata": {},
   "outputs": [
    {
     "name": "stdout",
     "output_type": "stream",
     "text": [
      "0        5\n",
      "1        5\n",
      "2        5\n",
      "3        4\n",
      "4        3\n",
      "        ..\n",
      "20635    2\n",
      "20636    2\n",
      "20637    2\n",
      "20638    2\n",
      "20639    2\n",
      "Name: income_category, Length: 20640, dtype: category\n",
      "Categories (5, int64): [1 < 2 < 3 < 4 < 5] 0        8.3252\n",
      "1        8.3014\n",
      "2        7.2574\n",
      "3        5.6431\n",
      "4        3.8462\n",
      "          ...  \n",
      "20635    1.5603\n",
      "20636    2.5568\n",
      "20637    1.7000\n",
      "20638    1.8672\n",
      "20639    2.3886\n",
      "Name: median_income, Length: 20640, dtype: float64\n"
     ]
    }
   ],
   "source": []
  },
  {
   "cell_type": "code",
   "execution_count": 22,
   "metadata": {},
   "outputs": [
    {
     "data": {
      "text/plain": [
       "<AxesSubplot: >"
      ]
     },
     "execution_count": 22,
     "metadata": {},
     "output_type": "execute_result"
    },
    {
     "data": {
      "image/png": "[encoded data removed]",
      "text/plain": [
       "<Figure size 640x480 with 1 Axes>"
      ]
     },
     "metadata": {},
     "output_type": "display_data"
    }
   ],
   "source": [
    "data[\"income_category\"].value_counts().sort_index().plot.bar()\n"
   ]
  },
  {
   "cell_type": "code",
   "execution_count": null,
   "metadata": {},
   "outputs": [],
   "source": []
  },
  {
   "cell_type": "code",
   "execution_count": null,
   "metadata": {},
   "outputs": [],
   "source": []
  },
  {
   "cell_type": "code",
   "execution_count": null,
   "metadata": {},
   "outputs": [],
   "source": []
  },
  {
   "cell_type": "code",
   "execution_count": null,
   "metadata": {},
   "outputs": [],
   "source": []
  },
  {
   "cell_type": "code",
   "execution_count": null,
   "metadata": {},
   "outputs": [],
   "source": []
  },
  {
   "cell_type": "code",
   "execution_count": null,
   "metadata": {},
   "outputs": [],
   "source": []
  }
 ],
 "metadata": {
  "kernelspec": {
   "display_name": "Python 3.10.7 64-bit",
   "language": "python",
   "name": "python3"
  },
  "language_info": {
   "codemirror_mode": {
    "name": "ipython",
    "version": 3
   },
   "file_extension": ".py",
   "mimetype": "text/x-python",
   "name": "python",
   "nbconvert_exporter": "python",
   "pygments_lexer": "ipython3",
   "version": "3.10.7"
  },
  "orig_nbformat": 4,
  "vscode": {
   "interpreter": {
    "hash": "74ab1cfbe9bae20ef018c8bc1f2e04df40c2d5dad3d2a3684494920581770076"
   }
  }
 },
 "nbformat": 4,
 "nbformat_minor": 2
}
